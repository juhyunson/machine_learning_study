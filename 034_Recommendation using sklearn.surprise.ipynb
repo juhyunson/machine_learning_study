{
 "cells": [
  {
   "cell_type": "markdown",
   "metadata": {},
   "source": [
    "### surprise 모듈\n",
    "- 추천시스템 관련 별도의 모듈이 존재한다.\n",
    "- 아직 자유롭게 쓸만큼 안정화가 안된 불안정?한 모듈이라 버전을 눈여겨 봐야한다\n",
    "- surprise 모듈의 장점\n",
    "    - 다양한 추천 알고리즘 탑재\n",
    "    - surprise는 skelarn 과 API의 명칭과 속성이 아주 유사함\n",
    "- 잠재요인의 의미\n",
    "    - user의 특성에 대해 추론하는 요인들을 의미한다. 이 요인들은 여러개의 값들을 축소한 것으로, surprise 모듈에서 사용하는 축소법은 pca가 아니라 svd(sigular value decomposition) 이다. 이것은 gradient decendant 를 이용한 방법이다. 만약 user 3명이라면 user의 잠재요인테이블은 3*1 item은 1*3  이 둘의 연산은 3*3 이 되기 때문에 원래 비어있던 부분을 채워 줄 수 있다.\n",
    "    - GPU 의 주사용되는 곳 : 게임 랜더링. 주로 단순연산에 강하다. 그러나 GPU의 연산은 내가 알아서 선택할 수 없다. CUDA (텐서플로우 유저들이 사용가능) 는 그것을 가능하게 뚫어놨음. 그래서 cuda 유저들은 gpu 연산을 원하는 대로 선택 가능하다.그래서 흔히들 말하는 gpu는 MBDI의 GPX card를 의미한다. "
   ]
  },
  {
   "cell_type": "code",
   "execution_count": 3,
   "metadata": {},
   "outputs": [
    {
     "name": "stdout",
     "output_type": "stream",
     "text": [
      "1.1.0\n"
     ]
    }
   ],
   "source": [
    "import surprise\n",
    "print(surprise.__version__)"
   ]
  },
  {
   "cell_type": "code",
   "execution_count": 4,
   "metadata": {},
   "outputs": [],
   "source": [
    "### 실습모듈 \n",
    "from surprise import SVD\n",
    "from surprise import Dataset\n",
    "from surprise import accuracy\n",
    "from surprise.model_selection import train_test_split"
   ]
  },
  {
   "cell_type": "code",
   "execution_count": 5,
   "metadata": {},
   "outputs": [
    {
     "name": "stdout",
     "output_type": "stream",
     "text": [
      "Dataset ml-100k could not be found. Do you want to download it? [Y/n] Y\n",
      "Trying to download dataset from http://files.grouplens.org/datasets/movielens/ml-100k.zip...\n",
      "Done! Dataset ml-100k has been saved to C:\\Users\\admin/.surprise_data/ml-100k\n"
     ]
    }
   ],
   "source": [
    "#10만개의 평점 데이터를 무비렌즈에서 불러올 수 있다\n",
    "data=Dataset.load_builtin('ml-100k')\n",
    "trainset,testset=train_test_split(data,test_size=25, random_state=0)"
   ]
  },
  {
   "cell_type": "code",
   "execution_count": 6,
   "metadata": {},
   "outputs": [
    {
     "data": {
      "text/plain": [
       "<surprise.prediction_algorithms.matrix_factorization.SVD at 0x20728fe41c8>"
      ]
     },
     "execution_count": 6,
     "metadata": {},
     "output_type": "execute_result"
    }
   ],
   "source": [
    "algo=SVD()\n",
    "algo.fit(trainset)"
   ]
  },
  {
   "cell_type": "code",
   "execution_count": 7,
   "metadata": {},
   "outputs": [
    {
     "name": "stdout",
     "output_type": "stream",
     "text": [
      "prediction type :  <class 'list'>  size: 25\n",
      "prediction 결과의 최도 5개 추출\n"
     ]
    },
    {
     "data": {
      "text/plain": [
       "[Prediction(uid='917', iid='50', r_ui=3.0, est=4.027215790648904, details={'was_impossible': False}),\n",
       " Prediction(uid='235', iid='318', r_ui=5.0, est=4.336752013275218, details={'was_impossible': False}),\n",
       " Prediction(uid='339', iid='12', r_ui=5.0, est=4.893313483809307, details={'was_impossible': False}),\n",
       " Prediction(uid='878', iid='755', r_ui=2.0, est=2.86949326312719, details={'was_impossible': False}),\n",
       " Prediction(uid='618', iid='56', r_ui=4.0, est=3.141472676196861, details={'was_impossible': False})]"
      ]
     },
     "execution_count": 7,
     "metadata": {},
     "output_type": "execute_result"
    }
   ],
   "source": [
    "predictions =algo.test(testset)\n",
    "print('prediction type : ',type(predictions), ' size:',len(predictions))\n",
    "print('prediction 결과의 최초 5개 추출')\n",
    "predictions[:5]"
   ]
  },
  {
   "cell_type": "code",
   "execution_count": 8,
   "metadata": {},
   "outputs": [
    {
     "data": {
      "text/plain": [
       "[('917', '50', 4.027215790648904),\n",
       " ('235', '318', 4.336752013275218),\n",
       " ('339', '12', 4.893313483809307)]"
      ]
     },
     "execution_count": 8,
     "metadata": {},
     "output_type": "execute_result"
    }
   ],
   "source": [
    "#uid,iid,est 추출\n",
    "#uid : 유저아이디, iid:아이템아이디(여기서는 영화아이디), r_ui:실제평점, est:예측평점\n",
    "[(pred.uid, pred.iid, pred.est) for pred in predictions[:3]]"
   ]
  },
  {
   "cell_type": "code",
   "execution_count": 9,
   "metadata": {},
   "outputs": [
    {
     "name": "stdout",
     "output_type": "stream",
     "text": [
      "user: 196        item: 382        r_ui = None   est = 3.67   {'was_impossible': False}\n"
     ]
    }
   ],
   "source": [
    "#predict 매서드는 개별 사용자와 개별 영화에 대한 추천 평점을 반환\n",
    "#test 매서드는 다수의 사용자에 대해 평점 반환\n",
    "#두개의 매서드가 분리되어 있음을 주의하라\n",
    "uid=str(196) #문자열로 입력해야함!\n",
    "iid=str(382) #문자열로 입력해야함! \n",
    "pred=algo.predict(uid,iid)\n",
    "print(pred)"
   ]
  },
  {
   "cell_type": "code",
   "execution_count": 10,
   "metadata": {},
   "outputs": [
    {
     "name": "stdout",
     "output_type": "stream",
     "text": [
      "RMSE: 0.9895\n"
     ]
    },
    {
     "data": {
      "text/plain": [
       "0.9894621757866391"
      ]
     },
     "execution_count": 10,
     "metadata": {},
     "output_type": "execute_result"
    }
   ],
   "source": [
    "#평가 결과 반환\n",
    "accuracy.rmse(predictions)"
   ]
  },
  {
   "cell_type": "markdown",
   "metadata": {},
   "source": [
    "#### 실습2\n",
    "- csv 파일에 바로 접근하기\n",
    "- surprise는 파일을 읽을 때 컬럼명(a.k.a 헤더)가 있으면 안됌"
   ]
  },
  {
   "cell_type": "code",
   "execution_count": 11,
   "metadata": {},
   "outputs": [],
   "source": [
    "#순서는 userID, moiveID, rating, timestamp 이다. \n",
    "ratings=pd.read_csv('./ml-latest-small/ratings.csv')\n",
    "ratings.to_csv('./ml-latest-small/ratings_noh.csv', index=False, header=False)"
   ]
  },
  {
   "cell_type": "code",
   "execution_count": 12,
   "metadata": {},
   "outputs": [],
   "source": [
    "#surprise 에서 바로 읽기\n",
    "#반드시 Reder에 들어가는 argument의 순서가 user,item,rating 순서대로 들어가야 한다.\n",
    "#rating_scale : rating 의 최소,최대값 정하기\n",
    "from surprise import Reader\n",
    "reader=Reader(line_format='user item rating timestamp', sep=',', rating_scale=(0.5,5))\n",
    "data=Dataset.load_from_file('./ml-latest-small/ratings_noh.csv',reader=reader)"
   ]
  },
  {
   "cell_type": "code",
   "execution_count": 13,
   "metadata": {},
   "outputs": [
    {
     "name": "stdout",
     "output_type": "stream",
     "text": [
      "RMSE: 0.8305\n"
     ]
    },
    {
     "data": {
      "text/plain": [
       "0.8304727951078185"
      ]
     },
     "execution_count": 13,
     "metadata": {},
     "output_type": "execute_result"
    }
   ],
   "source": [
    "#학습시작\n",
    "#n_factor : 잠재 요인의 크기\n",
    "trainset,testset=train_test_split(data,test_size=25, random_state=0)\n",
    "algo=SVD(n_factors=50, random_state=13)\n",
    "algo.fit(trainset)\n",
    "predictions=algo.test(testset)\n",
    "accuracy.rmse(predictions)"
   ]
  },
  {
   "cell_type": "code",
   "execution_count": 17,
   "metadata": {},
   "outputs": [
    {
     "name": "stdout",
     "output_type": "stream",
     "text": [
      "RMSE: 0.8305\n"
     ]
    },
    {
     "data": {
      "text/plain": [
       "0.8304727951078185"
      ]
     },
     "execution_count": 17,
     "metadata": {},
     "output_type": "execute_result"
    }
   ],
   "source": [
    "#pandas 의 데이터를 바로 읽을 수도 있다.\n",
    "from surprise import Dataset\n",
    "ratings=pd.read_csv('./ml-latest-small/ratings.csv')\n",
    "reader=Reader(rating_scale=(0.5,5.0))\n",
    "data=Dataset.load_from_df(ratings[['userId','movieId','rating']],reader)\n",
    "trainset,testset=train_test_split(data,test_size=25, random_state=0)\n",
    "\n",
    "algo=SVD(n_factors=50, random_state=13)\n",
    "algo.fit(trainset)\n",
    "predictions=algo.test(testset)\n",
    "accuracy.rmse(predictions)"
   ]
  },
  {
   "cell_type": "code",
   "execution_count": 18,
   "metadata": {},
   "outputs": [
    {
     "name": "stdout",
     "output_type": "stream",
     "text": [
      "Evaluating RMSE, MAE of algorithm SVD on 5 split(s).\n",
      "\n",
      "                  Fold 1  Fold 2  Fold 3  Fold 4  Fold 5  Mean    Std     \n",
      "RMSE (testset)    0.8726  0.8679  0.8840  0.8725  0.8723  0.8739  0.0054  \n",
      "MAE (testset)     0.6698  0.6688  0.6781  0.6717  0.6700  0.6717  0.0034  \n",
      "Fit time          9.31    9.48    8.41    9.51    8.20    8.98    0.56    \n",
      "Test time         0.17    0.17    0.17    0.41    0.18    0.22    0.10    \n"
     ]
    },
    {
     "data": {
      "text/plain": [
       "{'test_rmse': array([0.87263572, 0.86787814, 0.88400596, 0.8725414 , 0.87228994]),\n",
       " 'test_mae': array([0.66978772, 0.66876862, 0.6781278 , 0.6717266 , 0.67003626]),\n",
       " 'fit_time': (9.31110954284668,\n",
       "  9.478705883026123,\n",
       "  8.406526565551758,\n",
       "  9.512566804885864,\n",
       "  8.20406460762024),\n",
       " 'test_time': (0.17250394821166992,\n",
       "  0.16654443740844727,\n",
       "  0.17157530784606934,\n",
       "  0.41489171981811523,\n",
       "  0.18450927734375)}"
      ]
     },
     "execution_count": 18,
     "metadata": {},
     "output_type": "execute_result"
    }
   ],
   "source": [
    "#surprise 모듈도 crossvalidation을 지원한다\n",
    "from surprise.model_selection import cross_validate\n",
    "ratings=pd.read_csv('./ml-latest-small/ratings.csv')\n",
    "reader=Reader(rating_scale=(0.5,5.0))\n",
    "data=Dataset.load_from_df(ratings[['userId','movieId','rating']],reader)\n",
    "algo=SVD(random_state=13)\n",
    "cross_validate(algo, data, measures=['RMSE','MAE'],cv=5, verbose=True)"
   ]
  },
  {
   "cell_type": "code",
   "execution_count": 19,
   "metadata": {},
   "outputs": [
    {
     "name": "stdout",
     "output_type": "stream",
     "text": [
      "0.8770504577283244\n",
      "{'n_epochs': 20, 'n_factors': 50}\n"
     ]
    }
   ],
   "source": [
    "#GridSearchCV\n",
    "#n_epochs : 의미있는 잠재요인들을 찾아내는 연산을 몇번할지 정해주는 argument \n",
    "from surprise.model_selection import GridSearchCV\n",
    "param_grid={'n_epochs':[20,40,60], 'n_factors':[50,100,200]}\n",
    "gs=GridSearchCV(SVD,param_grid,measures=['rmse','mae'],cv=3)\n",
    "gs.fit(data)\n",
    "print(gs.best_score['rmse'])\n",
    "print(gs.best_params['rmse'])"
   ]
  }
 ],
 "metadata": {
  "kernelspec": {
   "display_name": "Python 3",
   "language": "python",
   "name": "python3"
  },
  "language_info": {
   "codemirror_mode": {
    "name": "ipython",
    "version": 3
   },
   "file_extension": ".py",
   "mimetype": "text/x-python",
   "name": "python",
   "nbconvert_exporter": "python",
   "pygments_lexer": "ipython3",
   "version": "3.7.4"
  }
 },
 "nbformat": 4,
 "nbformat_minor": 2
}
