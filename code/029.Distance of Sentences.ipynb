{
 "cells": [
  {
   "cell_type": "markdown",
   "metadata": {},
   "source": [
    "### 문장사이의 거리\n",
    "- 평면이든, 공간이든 두 점 사이의 거리는 구할 수 있다.\n",
    "- 만약 비교해야할 문장을 벡터로 표현할 수 있다면 거리를 구할 수 있다. "
   ]
  },
  {
   "cell_type": "code",
   "execution_count": 1,
   "metadata": {},
   "outputs": [],
   "source": [
    "#CountVectorizer\n",
    "from sklearn.feature_extraction.text import CountVectorizer\n",
    "vectorizer=CountVectorizer(min_df=1)"
   ]
  },
  {
   "cell_type": "code",
   "execution_count": 2,
   "metadata": {},
   "outputs": [],
   "source": [
    "#훈련용 문장\n",
    "contents=['상처받은 아이들은 너무 일찍 커버려',\n",
    "         '내가 상처받은 거 아는 사람 불편해',\n",
    "         '잘 사는 사람들은 좋은 사람 되기 쉬워',\n",
    "         '아무 일도 아니야 괜찮아']"
   ]
  },
  {
   "cell_type": "code",
   "execution_count": 3,
   "metadata": {},
   "outputs": [],
   "source": [
    "#Okt(이전 Twitter) 사용\n",
    "from konlpy.tag import Okt\n",
    "t=Okt()"
   ]
  },
  {
   "cell_type": "code",
   "execution_count": 4,
   "metadata": {},
   "outputs": [
    {
     "data": {
      "text/plain": [
       "[['상처', '받은', '아이', '들', '은', '너무', '일찍', '커버', '려'],\n",
       " ['내', '가', '상처', '받은', '거', '아는', '사람', '불편해'],\n",
       " ['잘', '사는', '사람', '들', '은', '좋은', '사람', '되기', '쉬워'],\n",
       " ['아무', '일도', '아니야', '괜찮아']]"
      ]
     },
     "execution_count": 4,
     "metadata": {},
     "output_type": "execute_result"
    }
   ],
   "source": [
    "#형태소 분석\n",
    "contents_tokens=[t.morphs(row) for row in contents]\n",
    "contents_tokens"
   ]
  },
  {
   "cell_type": "code",
   "execution_count": 5,
   "metadata": {},
   "outputs": [
    {
     "data": {
      "text/plain": [
       "[' 상처 받은 아이 들 은 너무 일찍 커버 려',\n",
       " ' 내 가 상처 받은 거 아는 사람 불편해',\n",
       " ' 잘 사는 사람 들 은 좋은 사람 되기 쉬워',\n",
       " ' 아무 일도 아니야 괜찮아']"
      ]
     },
     "execution_count": 5,
     "metadata": {},
     "output_type": "execute_result"
    }
   ],
   "source": [
    "#형태소 분석된 결과를 다시 문장으로 합친다.\n",
    "#이 함수는 문장이 여러개일 경우에는 상당히 오래 걸릴 수 있으니 주의해라.\n",
    "contents_for_vectorize=[]\n",
    "for content in contents_tokens:\n",
    "    sentence=''\n",
    "    for word in content:\n",
    "        sentence=sentence+' '+word\n",
    "        \n",
    "    contents_for_vectorize.append(sentence)\n",
    "    \n",
    "contents_for_vectorize"
   ]
  },
  {
   "cell_type": "code",
   "execution_count": 6,
   "metadata": {},
   "outputs": [
    {
     "data": {
      "text/plain": [
       "<4x17 sparse matrix of type '<class 'numpy.int64'>'\n",
       "\twith 20 stored elements in Compressed Sparse Row format>"
      ]
     },
     "execution_count": 6,
     "metadata": {},
     "output_type": "execute_result"
    }
   ],
   "source": [
    "#Vectorize\n",
    "X=vectorizer.fit_transform(contents_for_vectorize)\n",
    "X"
   ]
  },
  {
   "cell_type": "code",
   "execution_count": 7,
   "metadata": {},
   "outputs": [
    {
     "data": {
      "text/plain": [
       "(4, 17)"
      ]
     },
     "execution_count": 7,
     "metadata": {},
     "output_type": "execute_result"
    }
   ],
   "source": [
    "#4개의 문장, 17개의 말뭉치\n",
    "num_samples,num_features=X.shape\n",
    "num_samples,num_features"
   ]
  },
  {
   "cell_type": "code",
   "execution_count": 8,
   "metadata": {},
   "outputs": [
    {
     "data": {
      "text/plain": [
       "['괜찮아',\n",
       " '너무',\n",
       " '되기',\n",
       " '받은',\n",
       " '불편해',\n",
       " '사는',\n",
       " '사람',\n",
       " '상처',\n",
       " '쉬워',\n",
       " '아는',\n",
       " '아니야',\n",
       " '아무',\n",
       " '아이',\n",
       " '일도',\n",
       " '일찍',\n",
       " '좋은',\n",
       " '커버']"
      ]
     },
     "execution_count": 8,
     "metadata": {},
     "output_type": "execute_result"
    }
   ],
   "source": [
    "vectorizer.get_feature_names()"
   ]
  },
  {
   "cell_type": "code",
   "execution_count": 9,
   "metadata": {},
   "outputs": [
    {
     "data": {
      "text/plain": [
       "array([[0, 0, 0, 1],\n",
       "       [1, 0, 0, 0],\n",
       "       [0, 0, 1, 0],\n",
       "       [1, 1, 0, 0],\n",
       "       [0, 1, 0, 0],\n",
       "       [0, 0, 1, 0],\n",
       "       [0, 1, 2, 0],\n",
       "       [1, 1, 0, 0],\n",
       "       [0, 0, 1, 0],\n",
       "       [0, 1, 0, 0],\n",
       "       [0, 0, 0, 1],\n",
       "       [0, 0, 0, 1],\n",
       "       [1, 0, 0, 0],\n",
       "       [0, 0, 0, 1],\n",
       "       [1, 0, 0, 0],\n",
       "       [0, 0, 1, 0],\n",
       "       [1, 0, 0, 0]], dtype=int64)"
      ]
     },
     "execution_count": 9,
     "metadata": {},
     "output_type": "execute_result"
    }
   ],
   "source": [
    "X.toarray().transpose()"
   ]
  },
  {
   "cell_type": "code",
   "execution_count": 10,
   "metadata": {},
   "outputs": [
    {
     "data": {
      "text/plain": [
       "[' 상처 받기 싫어 괜찮아']"
      ]
     },
     "execution_count": 10,
     "metadata": {},
     "output_type": "execute_result"
    }
   ],
   "source": [
    "#테스트용 문장\n",
    "new_post=['상처받기 싫어 괜찮아']\n",
    "new_post_tokens=[t.morphs(row) for row in new_post]\n",
    "new_post_for_vectorize=[]\n",
    "\n",
    "for content in new_post_tokens:\n",
    "    sentence=''\n",
    "    for word in content:\n",
    "        sentence=sentence+' '+word\n",
    "    new_post_for_vectorize.append(sentence)\n",
    "    \n",
    "new_post_for_vectorize"
   ]
  },
  {
   "cell_type": "code",
   "execution_count": 11,
   "metadata": {},
   "outputs": [
    {
     "data": {
      "text/plain": [
       "array([[1, 0, 0, 0, 0, 0, 0, 1, 0, 0, 0, 0, 0, 0, 0, 0, 0]], dtype=int64)"
      ]
     },
     "execution_count": 11,
     "metadata": {},
     "output_type": "execute_result"
    }
   ],
   "source": [
    "#벡터로 표현\n",
    "new_post_vec =vectorizer.transform(new_post_for_vectorize)\n",
    "new_post_vec.toarray()"
   ]
  },
  {
   "cell_type": "code",
   "execution_count": 12,
   "metadata": {},
   "outputs": [],
   "source": [
    "#유클리드 거리\n",
    "import scipy as sp\n",
    "\n",
    "def dist_raw(v1,v2):\n",
    "    delta = v1-v2\n",
    "    return sp.linalg.norm(delta.toarray())"
   ]
  },
  {
   "cell_type": "code",
   "execution_count": 13,
   "metadata": {},
   "outputs": [
    {
     "data": {
      "text/plain": [
       "[2.449489742783178, 2.23606797749979, 3.1622776601683795, 2.0]"
      ]
     },
     "execution_count": 13,
     "metadata": {},
     "output_type": "execute_result"
    }
   ],
   "source": [
    "#결과\n",
    "dist=[dist_raw(each,new_post_vec) for each in X]\n",
    "dist"
   ]
  },
  {
   "cell_type": "code",
   "execution_count": 14,
   "metadata": {},
   "outputs": [
    {
     "name": "stdout",
     "output_type": "stream",
     "text": [
      "Best post is  3 , dist = 2.0\n",
      "test post is -->  ['상처받기 싫어 괜찮아']\n",
      "best dist post is --> 아무 일도 아니야 괜찮아\n"
     ]
    }
   ],
   "source": [
    "print('Best post is ',dist.index(min(dist)), \", dist =\", min(dist))\n",
    "print('test post is --> ', new_post)\n",
    "print('best dist post is -->', contents[dist.index(min(dist))])"
   ]
  },
  {
   "cell_type": "code",
   "execution_count": 15,
   "metadata": {},
   "outputs": [
    {
     "name": "stdout",
     "output_type": "stream",
     "text": [
      "[[0 1 0 1 0 0 0 1 0 0 0 0 1 0 1 0 1]]\n",
      "---------------------\n",
      "[[1 0 0 0 0 0 0 1 0 0 0 0 0 0 0 0 0]]\n",
      "[[0 0 0 1 1 0 1 1 0 1 0 0 0 0 0 0 0]]\n",
      "---------------------\n",
      "[[1 0 0 0 0 0 0 1 0 0 0 0 0 0 0 0 0]]\n",
      "[[0 0 1 0 0 1 2 0 1 0 0 0 0 0 0 1 0]]\n",
      "---------------------\n",
      "[[1 0 0 0 0 0 0 1 0 0 0 0 0 0 0 0 0]]\n",
      "[[1 0 0 0 0 0 0 0 0 0 1 1 0 1 0 0 0]]\n",
      "---------------------\n",
      "[[1 0 0 0 0 0 0 1 0 0 0 0 0 0 0 0 0]]\n"
     ]
    }
   ],
   "source": [
    "#유사도 -벡터사이의 거리\n",
    "for i in range(0,len(contents)):\n",
    "    print(X.getrow(i).toarray())\n",
    "    \n",
    "    print('---------------------')\n",
    "    print(new_post_vec.toarray())"
   ]
  },
  {
   "cell_type": "markdown",
   "metadata": {},
   "source": [
    "### TF-IDF\n",
    "- 한 문서에서 많이 등장한 단어에 가중치를 준다\n",
    "- 전체 문서에서 많이 나타나는 단어는 가중치를 줄인다."
   ]
  },
  {
   "cell_type": "code",
   "execution_count": 16,
   "metadata": {},
   "outputs": [],
   "source": [
    "#TfidfVectorizer\n",
    "from sklearn.feature_extraction.text import TfidfVectorizer\n",
    "vectorizer=TfidfVectorizer(min_df=1, decode_error='ignore')"
   ]
  },
  {
   "cell_type": "code",
   "execution_count": 17,
   "metadata": {},
   "outputs": [
    {
     "data": {
      "text/plain": [
       "(4, 17)"
      ]
     },
     "execution_count": 17,
     "metadata": {},
     "output_type": "execute_result"
    }
   ],
   "source": [
    "X=vectorizer.fit_transform(contents_for_vectorize)\n",
    "num_samples, num_features= X.shape\n",
    "num_samples, num_features"
   ]
  },
  {
   "cell_type": "code",
   "execution_count": 18,
   "metadata": {},
   "outputs": [
    {
     "data": {
      "text/plain": [
       "array([[0.        , 0.        , 0.        , 0.5       ],\n",
       "       [0.43671931, 0.        , 0.        , 0.        ],\n",
       "       [0.        , 0.        , 0.39264414, 0.        ],\n",
       "       [0.34431452, 0.40104275, 0.        , 0.        ],\n",
       "       [0.        , 0.50867187, 0.        , 0.        ],\n",
       "       [0.        , 0.        , 0.39264414, 0.        ],\n",
       "       [0.        , 0.40104275, 0.6191303 , 0.        ],\n",
       "       [0.34431452, 0.40104275, 0.        , 0.        ],\n",
       "       [0.        , 0.        , 0.39264414, 0.        ],\n",
       "       [0.        , 0.50867187, 0.        , 0.        ],\n",
       "       [0.        , 0.        , 0.        , 0.5       ],\n",
       "       [0.        , 0.        , 0.        , 0.5       ],\n",
       "       [0.43671931, 0.        , 0.        , 0.        ],\n",
       "       [0.        , 0.        , 0.        , 0.5       ],\n",
       "       [0.43671931, 0.        , 0.        , 0.        ],\n",
       "       [0.        , 0.        , 0.39264414, 0.        ],\n",
       "       [0.43671931, 0.        , 0.        , 0.        ]])"
      ]
     },
     "execution_count": 18,
     "metadata": {},
     "output_type": "execute_result"
    }
   ],
   "source": [
    "X.toarray().transpose()"
   ]
  },
  {
   "cell_type": "code",
   "execution_count": 19,
   "metadata": {},
   "outputs": [
    {
     "data": {
      "text/plain": [
       "array([[0.78528828, 0.        , 0.        , 0.        , 0.        ,\n",
       "        0.        , 0.        , 0.6191303 , 0.        , 0.        ,\n",
       "        0.        , 0.        , 0.        , 0.        , 0.        ,\n",
       "        0.        , 0.        ]])"
      ]
     },
     "execution_count": 19,
     "metadata": {},
     "output_type": "execute_result"
    }
   ],
   "source": [
    "#테스트 문장 적용\n",
    "new_post_vec=vectorizer.transform(new_post_for_vectorize)\n",
    "new_post_vec.toarray()"
   ]
  },
  {
   "cell_type": "code",
   "execution_count": 21,
   "metadata": {},
   "outputs": [],
   "source": [
    "#거리를 구하는 또다른 방법 : normalize\n",
    "def dist_norm(v1,v2):\n",
    "    v1_normalized=v1/sp.linalg.norm(v1.toarray())\n",
    "    v2_normalized=v2/sp.linalg.norm(v2.toarray())\n",
    "    \n",
    "    delta = v1_normalized- v2_normalized\n",
    "    \n",
    "    return sp.linalg.norm(delta.toarray())"
   ]
  },
  {
   "cell_type": "code",
   "execution_count": 22,
   "metadata": {},
   "outputs": [
    {
     "name": "stdout",
     "output_type": "stream",
     "text": [
      "Best post is  3 , dist =  1.1021396119773588\n",
      "test post is -->  ['상처받기 싫어 괜찮아']\n",
      "best dist post is -->  아무 일도 아니야 괜찮아\n"
     ]
    }
   ],
   "source": [
    "#결과\n",
    "dist=[dist_norm(each, new_post_vec) for each in X]\n",
    "\n",
    "print('Best post is ', dist.index(min(dist)), \", dist = \", min(dist))\n",
    "print('test post is --> ', new_post )\n",
    "print('best dist post is --> ', contents[dist.index(min(dist))])"
   ]
  },
  {
   "cell_type": "markdown",
   "metadata": {},
   "source": [
    "### Naver Api 에 적용하기"
   ]
  },
  {
   "cell_type": "code",
   "execution_count": 23,
   "metadata": {},
   "outputs": [],
   "source": [
    "#gen_search_url\n",
    "import urllib.request\n",
    "def gen_search_url(api_node, search_text, start_num, disp_num):\n",
    "    base='https://openapi.naver.com/v1/search'\n",
    "    node='/'+api_node+'.json'\n",
    "    param_query='?query='+urllib.parse.quote(search_text)\n",
    "    param_start='&start='+str(start_num)\n",
    "    param_disp='&display='+str(disp_num)\n",
    "    \n",
    "    return base+node+param_query+param_start+param_disp"
   ]
  },
  {
   "cell_type": "code",
   "execution_count": 24,
   "metadata": {},
   "outputs": [],
   "source": [
    "#get_result_onpage\n",
    "import json\n",
    "import datetime\n",
    "\n",
    "def get_result_onpage(url):\n",
    "    request=urllib.request.Request(url)\n",
    "    request.add_header('X-Naver-Client-Id',client_id)\n",
    "    request.add_header('X-Naver-Client-Secret',client_secret)\n",
    "    \n",
    "    response=urllib.request.urlopen(request)\n",
    "    \n",
    "    print('[{}] Url Request Success'.format(datetime.datetime.now()))\n",
    "    \n",
    "    return json.loads(response.read().decode('utf-8'))"
   ]
  },
  {
   "cell_type": "code",
   "execution_count": 25,
   "metadata": {},
   "outputs": [
    {
     "name": "stdout",
     "output_type": "stream",
     "text": [
      "[2020-04-17 17:52:59.915547] Url Request Success\n"
     ]
    },
    {
     "data": {
      "text/plain": [
       "{'lastBuildDate': 'Fri, 17 Apr 2020 17:52:59 +0900',\n",
       " 'total': 128695,\n",
       " 'start': 10,\n",
       " 'display': 10,\n",
       " 'items': [{'title': '<b>파이썬</b> 공부 대충 얼마나 걸릴까요? (50)',\n",
       "   'link': 'https://kin.naver.com/qna/detail.nhn?d1id=1&dirId=10402&docId=352398003&qb=7YyM7J207I2s&enc=utf8&section=kin.qna&rank=10&search_sort=0&spq=0',\n",
       "   'description': '... 현재 학원에서 <b>파이썬</b> 반복문을 갓 입문했습니다. <b>파이썬</b> 말고 리눅스를 하고싶은데 <b>파이썬</b>은 보통 얼마나 하면... 컴퓨터,프로그래밍,IT 분야 지식IN 전문 답변인 진로진학취업상담가 이에요 <b>파이썬</b>이랑 리눅스 서버도... '},\n",
       "  {'title': '<b>파이썬</b>프로그래밍을 배우면 일본취업에 유리할까요?',\n",
       "   'link': 'https://kin.naver.com/qna/detail.nhn?d1id=1&dirId=10402&docId=349484451&qb=7YyM7J207I2s&enc=utf8&section=kin.qna&rank=11&search_sort=0&spq=0',\n",
       "   'description': '궁금한게 있는데요 <b>파이썬</b>프로그래밍을 배우면 일본취업에 유리할까요? 일본은 대부분 c언어나 자바아닌가요? <b>파이썬</b>프로그래밍이 쓸모없지않겠죠? 사실 <b>파이썬</b>은.. 언어... 그 이유는 <b>파이썬</b>의 경우 보통 처음부터 뭔가 협업하여... '},\n",
       "  {'title': '독학으로 <b>파이썬</b>',\n",
       "   'link': 'https://kin.naver.com/qna/detail.nhn?d1id=1&dirId=10402&docId=351178975&qb=7YyM7J207I2s&enc=utf8&section=kin.qna&rank=12&search_sort=0&spq=0',\n",
       "   'description': '독학으로 <b>파이썬</b>을 공부해 보려고하는데요 인강과 교재? 책 추천 좀 해주세요.... 학원에서 <b>파이썬</b> 하나만 배우면 비용이 대체로 얼마정도 드나요?... 혼자서 <b>파이썬</b>을 독학하시기에는 어려운 점이 있으실 것이라는 생각이 듭니다. 많은... '},\n",
       "  {'title': '<b>파이썬</b> 공부',\n",
       "   'link': 'https://kin.naver.com/qna/detail.nhn?d1id=1&dirId=10402&docId=352418295&qb=7YyM7J207I2s&enc=utf8&section=kin.qna&rank=13&search_sort=0&spq=0',\n",
       "   'description': '<b>파이썬</b> 공부할 필요가 생겨서 <b>파이썬</b> 공부를 할까하는데 아무것도 모르는 비전공자라 <b>파이썬</b>은 어디에 쓰이고... <b>파이썬</b>공부에 대해 질문 남겨주셨는데요, 우선, <b>파이썬</b>은 홈페이지 개발에 많이 쓰입니다 윈도우 실행 프로그램을... '},\n",
       "  {'title': '<b>파이썬</b> 독학하려는데 어려울까요??',\n",
       "   'link': 'https://kin.naver.com/qna/detail.nhn?d1id=4&dirId=40608&docId=351774266&qb=7YyM7J207I2s&enc=utf8&section=kin.qna&rank=14&search_sort=0&spq=0',\n",
       "   'description': '... 일단 <b>파이썬</b>으로 독학 시작해보려고하는데요 뭐 아는 게 없어서 선뜻 시작하기가 애매하네요 <b>파이썬</b> 독학으로 배우기 많이 어렵나요?? 요즘은 시대가 좋아서 <b>파이썬</b> 관련 서적이나 인강이 잘 돼있답니다 게다가 <b>파이썬</b>은 비교적... '},\n",
       "  {'title': '<b>파이썬</b>언어 공부',\n",
       "   'link': 'https://kin.naver.com/qna/detail.nhn?d1id=4&dirId=40608&docId=352055782&qb=7YyM7J207I2s&enc=utf8&section=kin.qna&rank=15&search_sort=0&spq=0',\n",
       "   'description': '<b>파이썬</b>언어 공부먼저 ?해야하나요 안녕하세요. IT... 먼저 <b>파이썬</b>에 대해서 궁금하신 이유는 무엇인가요? <b>파이썬</b>은 프로그래밍언어라는 겁니다. 가장 인기 있는 언어죠. 컴퓨터 공학부나 , IT 기업에서도 <b>파이썬</b>을 가장 많이... '},\n",
       "  {'title': '<b>파이썬</b> 인강 인터넷 강의로 공부할 수 있는 곳',\n",
       "   'link': 'https://kin.naver.com/qna/detail.nhn?d1id=4&dirId=40608&docId=352302098&qb=7YyM7J207I2s&enc=utf8&section=kin.qna&rank=16&search_sort=0&spq=0',\n",
       "   'description': '... 특성화고 다니는데 학교 수업 많으로는 <b>파이썬</b>, c언어... 부분이고 <b>파이썬</b>, c언어가 제대로 이해 못한다면 C++, 자바까지 배울 수 없어 <b>파이썬</b>, C언어가 가장 중요하다고 할 수 있습니다. 대부분의 <b>파이썬</b>인강, 인터넷강의는 옛날... '},\n",
       "  {'title': '<b>파이썬</b> 가르쳐주는 학원이 어디죠?',\n",
       "   'link': 'https://kin.naver.com/qna/detail.nhn?d1id=11&dirId=110409&docId=351956467&qb=7YyM7J207I2s&enc=utf8&section=kin.qna&rank=17&search_sort=0&spq=0',\n",
       "   'description': '<b>파이썬</b> 가르쳐주는 학원이 어디죠? <b>파이썬</b> 배울 수 있는 학원 추천해드릴께요! http://sbsdaejeon.co.kr SBS아카데미컴퓨터아트학원 박세진 Previous Next pused 수강료조회 취업과정조회 지점위치조회... '},\n",
       "  {'title': '<b>파이썬</b>학원 다니고싶어요!',\n",
       "   'link': 'https://kin.naver.com/qna/detail.nhn?d1id=4&dirId=40608&docId=352431083&qb=7YyM7J207I2s&enc=utf8&section=kin.qna&rank=18&search_sort=0&spq=0',\n",
       "   'description': '안녕하세요 이번에 <b>파이썬</b>에 관심이 생긴 1인입니다. <b>파이썬</b>학원 다녀보려고 정보 찾는중이예요 처음 배우는거라... 알려주는 <b>파이썬</b>학원 어디 없을까요? 이왕 알아보는거 교육과정도 다양하고 실습환경까지 깨끗한 <b>파이썬</b>학원이... '},\n",
       "  {'title': '<b>파이썬</b>웹페이지 제작가능한 기술교육학원 있나요?',\n",
       "   'link': 'https://kin.naver.com/qna/detail.nhn?d1id=1&dirId=10402&docId=351786253&qb=7YyM7J207I2s&enc=utf8&section=kin.qna&rank=19&search_sort=0&spq=0',\n",
       "   'description': '... 사업가로 <b>파이썬</b> 페이지를 구축하는 사람을 불러서 웹페이지 개발을 의뢰한 적이 있었는데요. 아무래도 <b>파이썬</b>웹... 제가 <b>파이썬</b>웹페이지 기술을 배워두면 어느정도 그런... <b>파이썬</b>교육은 가능하다고 들은적은 있지만 <b>파이썬</b>웹페이지... '}]}"
      ]
     },
     "execution_count": 25,
     "metadata": {},
     "output_type": "execute_result"
    }
   ],
   "source": [
    "#문장을 수집하자\n",
    "client_id='client_id'\n",
    "client_secret='client_secret'\n",
    "\n",
    "url=gen_search_url('kin','파이썬',10,10)\n",
    "one_result=get_result_onpage(url)\n",
    "one_result"
   ]
  },
  {
   "cell_type": "code",
   "execution_count": 26,
   "metadata": {},
   "outputs": [
    {
     "data": {
      "text/plain": [
       "'... 현재 학원에서 <b>파이썬</b> 반복문을 갓 입문했습니다. <b>파이썬</b> 말고 리눅스를 하고싶은데 <b>파이썬</b>은 보통 얼마나 하면... 컴퓨터,프로그래밍,IT 분야 지식IN 전문 답변인 진로진학취업상담가 이에요 <b>파이썬</b>이랑 리눅스 서버도... '"
      ]
     },
     "execution_count": 26,
     "metadata": {},
     "output_type": "execute_result"
    }
   ],
   "source": [
    "one_result['items'][0]['description']"
   ]
  },
  {
   "cell_type": "code",
   "execution_count": 27,
   "metadata": {},
   "outputs": [],
   "source": [
    "#태그제거기\n",
    "# d tag를 삭제하기\n",
    "def delete_tag(input_str):\n",
    "    input_str=input_str.replace('<b>',\"\")\n",
    "    input_str=input_str.replace('</b>',\"\")\n",
    "    \n",
    "    return input_str"
   ]
  },
  {
   "cell_type": "code",
   "execution_count": 28,
   "metadata": {},
   "outputs": [],
   "source": [
    "def get_description(pages):\n",
    "    contents=[]\n",
    "    for sentences in pages['items']:\n",
    "        contents.append(delete_tag(sentences['description']))\n",
    "    return contents"
   ]
  },
  {
   "cell_type": "code",
   "execution_count": 29,
   "metadata": {},
   "outputs": [
    {
     "data": {
      "text/plain": [
       "['... 현재 학원에서 파이썬 반복문을 갓 입문했습니다. 파이썬 말고 리눅스를 하고싶은데 파이썬은 보통 얼마나 하면... 컴퓨터,프로그래밍,IT 분야 지식IN 전문 답변인 진로진학취업상담가 이에요 파이썬이랑 리눅스 서버도... ',\n",
       " '궁금한게 있는데요 파이썬프로그래밍을 배우면 일본취업에 유리할까요? 일본은 대부분 c언어나 자바아닌가요? 파이썬프로그래밍이 쓸모없지않겠죠? 사실 파이썬은.. 언어... 그 이유는 파이썬의 경우 보통 처음부터 뭔가 협업하여... ',\n",
       " '독학으로 파이썬을 공부해 보려고하는데요 인강과 교재? 책 추천 좀 해주세요.... 학원에서 파이썬 하나만 배우면 비용이 대체로 얼마정도 드나요?... 혼자서 파이썬을 독학하시기에는 어려운 점이 있으실 것이라는 생각이 듭니다. 많은... ',\n",
       " '파이썬 공부할 필요가 생겨서 파이썬 공부를 할까하는데 아무것도 모르는 비전공자라 파이썬은 어디에 쓰이고... 파이썬공부에 대해 질문 남겨주셨는데요, 우선, 파이썬은 홈페이지 개발에 많이 쓰입니다 윈도우 실행 프로그램을... ',\n",
       " '... 일단 파이썬으로 독학 시작해보려고하는데요 뭐 아는 게 없어서 선뜻 시작하기가 애매하네요 파이썬 독학으로 배우기 많이 어렵나요?? 요즘은 시대가 좋아서 파이썬 관련 서적이나 인강이 잘 돼있답니다 게다가 파이썬은 비교적... ',\n",
       " '파이썬언어 공부먼저 ?해야하나요 안녕하세요. IT... 먼저 파이썬에 대해서 궁금하신 이유는 무엇인가요? 파이썬은 프로그래밍언어라는 겁니다. 가장 인기 있는 언어죠. 컴퓨터 공학부나 , IT 기업에서도 파이썬을 가장 많이... ',\n",
       " '... 특성화고 다니는데 학교 수업 많으로는 파이썬, c언어... 부분이고 파이썬, c언어가 제대로 이해 못한다면 C++, 자바까지 배울 수 없어 파이썬, C언어가 가장 중요하다고 할 수 있습니다. 대부분의 파이썬인강, 인터넷강의는 옛날... ',\n",
       " '파이썬 가르쳐주는 학원이 어디죠? 파이썬 배울 수 있는 학원 추천해드릴께요! http://sbsdaejeon.co.kr SBS아카데미컴퓨터아트학원 박세진 Previous Next pused 수강료조회 취업과정조회 지점위치조회... ',\n",
       " '안녕하세요 이번에 파이썬에 관심이 생긴 1인입니다. 파이썬학원 다녀보려고 정보 찾는중이예요 처음 배우는거라... 알려주는 파이썬학원 어디 없을까요? 이왕 알아보는거 교육과정도 다양하고 실습환경까지 깨끗한 파이썬학원이... ',\n",
       " '... 사업가로 파이썬 페이지를 구축하는 사람을 불러서 웹페이지 개발을 의뢰한 적이 있었는데요. 아무래도 파이썬웹... 제가 파이썬웹페이지 기술을 배워두면 어느정도 그런... 파이썬교육은 가능하다고 들은적은 있지만 파이썬웹페이지... ']"
      ]
     },
     "execution_count": 29,
     "metadata": {},
     "output_type": "execute_result"
    }
   ],
   "source": [
    "contents=get_description(one_result)\n",
    "contents"
   ]
  },
  {
   "cell_type": "code",
   "execution_count": 30,
   "metadata": {},
   "outputs": [],
   "source": [
    "#형태소 분석\n",
    "from sklearn.feature_extraction.text import CountVectorizer\n",
    "from konlpy.tag import Okt\n",
    "\n",
    "t=Okt()\n",
    "vectorizer=CountVectorizer(min_df=1)"
   ]
  },
  {
   "cell_type": "code",
   "execution_count": 31,
   "metadata": {},
   "outputs": [
    {
     "data": {
      "text/plain": [
       "[['...',\n",
       "  '현재',\n",
       "  '학원',\n",
       "  '에서',\n",
       "  '파이썬',\n",
       "  '반복',\n",
       "  '문',\n",
       "  '을',\n",
       "  '갓',\n",
       "  '입문',\n",
       "  '했습니다',\n",
       "  '.',\n",
       "  '파이썬',\n",
       "  '말고',\n",
       "  '리눅스',\n",
       "  '를',\n",
       "  '하고싶은데',\n",
       "  '파이썬',\n",
       "  '은',\n",
       "  '보통',\n",
       "  '얼마나',\n",
       "  '하면',\n",
       "  '...',\n",
       "  '컴퓨터',\n",
       "  ',',\n",
       "  '프로그래밍',\n",
       "  ',',\n",
       "  'IT',\n",
       "  '분야',\n",
       "  '지식',\n",
       "  'IN',\n",
       "  '전문',\n",
       "  '답변',\n",
       "  '인',\n",
       "  '진로',\n",
       "  '진학',\n",
       "  '취업',\n",
       "  '상담',\n",
       "  '가',\n",
       "  '이에요',\n",
       "  '파이썬',\n",
       "  '이랑',\n",
       "  '리눅스',\n",
       "  '서버',\n",
       "  '도',\n",
       "  '...'],\n",
       " ['궁금한게',\n",
       "  '있는데요',\n",
       "  '파이썬',\n",
       "  '프로그래밍',\n",
       "  '을',\n",
       "  '배우면',\n",
       "  '일',\n",
       "  '본',\n",
       "  '취업',\n",
       "  '에',\n",
       "  '유리할까',\n",
       "  '요',\n",
       "  '?',\n",
       "  '일본',\n",
       "  '은',\n",
       "  '대부분',\n",
       "  'c',\n",
       "  '언어',\n",
       "  '나',\n",
       "  '자바',\n",
       "  '아닌가요',\n",
       "  '?',\n",
       "  '파이썬',\n",
       "  '프로그래밍',\n",
       "  '이',\n",
       "  '쓸모없지',\n",
       "  '않겠죠',\n",
       "  '?',\n",
       "  '사실',\n",
       "  '파이썬',\n",
       "  '은',\n",
       "  '..',\n",
       "  '언어',\n",
       "  '...',\n",
       "  '그',\n",
       "  '이유',\n",
       "  '는',\n",
       "  '파이썬',\n",
       "  '의',\n",
       "  '경우',\n",
       "  '보통',\n",
       "  '처음',\n",
       "  '부터',\n",
       "  '뭔가',\n",
       "  '협업',\n",
       "  '하여',\n",
       "  '...'],\n",
       " ['독학',\n",
       "  '으로',\n",
       "  '파이썬',\n",
       "  '을',\n",
       "  '공부',\n",
       "  '해',\n",
       "  '보려고하는데요',\n",
       "  '인강',\n",
       "  '과',\n",
       "  '교재',\n",
       "  '?',\n",
       "  '책',\n",
       "  '추천',\n",
       "  '좀',\n",
       "  '해주세요',\n",
       "  '....',\n",
       "  '학원',\n",
       "  '에서',\n",
       "  '파이썬',\n",
       "  '하나',\n",
       "  '만',\n",
       "  '배우면',\n",
       "  '비용',\n",
       "  '이',\n",
       "  '대체로',\n",
       "  '얼마',\n",
       "  '정도',\n",
       "  '드나',\n",
       "  '요',\n",
       "  '?...',\n",
       "  '혼자',\n",
       "  '서',\n",
       "  '파이썬',\n",
       "  '을',\n",
       "  '독학',\n",
       "  '하',\n",
       "  '시기',\n",
       "  '에는',\n",
       "  '어려운',\n",
       "  '점',\n",
       "  '이',\n",
       "  '있으실',\n",
       "  '것',\n",
       "  '이라는',\n",
       "  '생각',\n",
       "  '이',\n",
       "  '듭니',\n",
       "  '다',\n",
       "  '.',\n",
       "  '많은',\n",
       "  '...'],\n",
       " ['파이썬',\n",
       "  '공부',\n",
       "  '할',\n",
       "  '필요',\n",
       "  '가',\n",
       "  '생겨서',\n",
       "  '파이썬',\n",
       "  '공부',\n",
       "  '를',\n",
       "  '할까',\n",
       "  '하는데',\n",
       "  '아무',\n",
       "  '것',\n",
       "  '도',\n",
       "  '모르는',\n",
       "  '비',\n",
       "  '전공자',\n",
       "  '라',\n",
       "  '파이썬',\n",
       "  '은',\n",
       "  '어디',\n",
       "  '에',\n",
       "  '쓰이고',\n",
       "  '...',\n",
       "  '파이썬',\n",
       "  '공부',\n",
       "  '에',\n",
       "  '대해',\n",
       "  '질문',\n",
       "  '남겨주셨는데요',\n",
       "  ',',\n",
       "  '우선',\n",
       "  ',',\n",
       "  '파이썬',\n",
       "  '은',\n",
       "  '홈페이지',\n",
       "  '개발',\n",
       "  '에',\n",
       "  '많이',\n",
       "  '쓰입니다',\n",
       "  '윈도우',\n",
       "  '실행',\n",
       "  '프로그램',\n",
       "  '을',\n",
       "  '...'],\n",
       " ['...',\n",
       "  '일단',\n",
       "  '파이썬',\n",
       "  '으로',\n",
       "  '독학',\n",
       "  '시작',\n",
       "  '해보려고하는데요',\n",
       "  '뭐',\n",
       "  '아는',\n",
       "  '게',\n",
       "  '없어서',\n",
       "  '선뜻',\n",
       "  '시작',\n",
       "  '하기가',\n",
       "  '애매하네요',\n",
       "  '파이썬',\n",
       "  '독학',\n",
       "  '으로',\n",
       "  '배우기',\n",
       "  '많이',\n",
       "  '어렵나요',\n",
       "  '??',\n",
       "  '요즘',\n",
       "  '은',\n",
       "  '시대',\n",
       "  '가',\n",
       "  '좋아서',\n",
       "  '파이썬',\n",
       "  '관련',\n",
       "  '서적',\n",
       "  '이나',\n",
       "  '인강',\n",
       "  '이',\n",
       "  '잘',\n",
       "  '돼있답니다',\n",
       "  '게다가',\n",
       "  '파이썬',\n",
       "  '은',\n",
       "  '비교',\n",
       "  '적',\n",
       "  '...'],\n",
       " ['파이썬',\n",
       "  '언어',\n",
       "  '공부',\n",
       "  '먼저',\n",
       "  '?',\n",
       "  '해야하나요',\n",
       "  '안녕하세요',\n",
       "  '.',\n",
       "  'IT',\n",
       "  '...',\n",
       "  '먼저',\n",
       "  '파이썬',\n",
       "  '에',\n",
       "  '대해',\n",
       "  '서',\n",
       "  '궁금하신',\n",
       "  '이유',\n",
       "  '는',\n",
       "  '무엇',\n",
       "  '인가요',\n",
       "  '?',\n",
       "  '파이썬',\n",
       "  '은',\n",
       "  '프로그래밍언어',\n",
       "  '라는',\n",
       "  '겁니다',\n",
       "  '.',\n",
       "  '가장',\n",
       "  '인기',\n",
       "  '있는',\n",
       "  '언어',\n",
       "  '죠',\n",
       "  '.',\n",
       "  '컴퓨터',\n",
       "  '공',\n",
       "  '학부',\n",
       "  '나',\n",
       "  ',',\n",
       "  'IT',\n",
       "  '기업',\n",
       "  '에서도',\n",
       "  '파이썬',\n",
       "  '을',\n",
       "  '가장',\n",
       "  '많이',\n",
       "  '...'],\n",
       " ['...',\n",
       "  '특성화고',\n",
       "  '다니는데',\n",
       "  '학교',\n",
       "  '수업',\n",
       "  '많으로는',\n",
       "  '파이썬',\n",
       "  ',',\n",
       "  'c',\n",
       "  '언어',\n",
       "  '...',\n",
       "  '부분',\n",
       "  '이고',\n",
       "  '파이썬',\n",
       "  ',',\n",
       "  'c',\n",
       "  '언어',\n",
       "  '가',\n",
       "  '제대로',\n",
       "  '이해',\n",
       "  '못',\n",
       "  '한다면',\n",
       "  'C',\n",
       "  '++,',\n",
       "  '자바',\n",
       "  '까지',\n",
       "  '배울',\n",
       "  '수',\n",
       "  '없어',\n",
       "  '파이썬',\n",
       "  ',',\n",
       "  'C',\n",
       "  '언어',\n",
       "  '가',\n",
       "  '가장',\n",
       "  '중요하다고',\n",
       "  '할',\n",
       "  '수',\n",
       "  '있습니다',\n",
       "  '.',\n",
       "  '대부분',\n",
       "  '의',\n",
       "  '파이썬',\n",
       "  '인강',\n",
       "  ',',\n",
       "  '인터넷',\n",
       "  '강의',\n",
       "  '는',\n",
       "  '옛날',\n",
       "  '...'],\n",
       " ['파이썬',\n",
       "  '가르쳐주는',\n",
       "  '학원',\n",
       "  '이',\n",
       "  '어디',\n",
       "  '죠',\n",
       "  '?',\n",
       "  '파이썬',\n",
       "  '배울',\n",
       "  '수',\n",
       "  '있는',\n",
       "  '학원',\n",
       "  '추천',\n",
       "  '해드릴께요',\n",
       "  '!',\n",
       "  'http://sbsdaejeon.co.kr',\n",
       "  'SBS',\n",
       "  '아카데미',\n",
       "  '컴퓨터아트',\n",
       "  '학원',\n",
       "  '박세진',\n",
       "  'Previous',\n",
       "  'Next',\n",
       "  'pused',\n",
       "  '수강',\n",
       "  '료',\n",
       "  '조회',\n",
       "  '취업',\n",
       "  '과정',\n",
       "  '조회',\n",
       "  '지점',\n",
       "  '위치',\n",
       "  '조회',\n",
       "  '...'],\n",
       " ['안녕하세요',\n",
       "  '이번',\n",
       "  '에',\n",
       "  '파이썬',\n",
       "  '에',\n",
       "  '관심',\n",
       "  '이',\n",
       "  '생긴',\n",
       "  '1',\n",
       "  '인',\n",
       "  '입니다',\n",
       "  '.',\n",
       "  '파이썬',\n",
       "  '학원',\n",
       "  '다녀',\n",
       "  '보려고',\n",
       "  '정보',\n",
       "  '찾는',\n",
       "  '중이',\n",
       "  '예요',\n",
       "  '처음',\n",
       "  '배우는거라',\n",
       "  '...',\n",
       "  '알려주는',\n",
       "  '파이썬',\n",
       "  '학원',\n",
       "  '어디',\n",
       "  '없을까요',\n",
       "  '?',\n",
       "  '이왕',\n",
       "  '알아보는거',\n",
       "  '교육과정',\n",
       "  '도',\n",
       "  '다양하고',\n",
       "  '실습',\n",
       "  '환경',\n",
       "  '까지',\n",
       "  '깨끗한',\n",
       "  '파이썬',\n",
       "  '학원',\n",
       "  '이',\n",
       "  '...'],\n",
       " ['...',\n",
       "  '사업가',\n",
       "  '로',\n",
       "  '파이썬',\n",
       "  '페이지',\n",
       "  '를',\n",
       "  '구축',\n",
       "  '하는',\n",
       "  '사람',\n",
       "  '을',\n",
       "  '불러서',\n",
       "  '웹페이지',\n",
       "  '개발',\n",
       "  '을',\n",
       "  '의뢰',\n",
       "  '한',\n",
       "  '적',\n",
       "  '이',\n",
       "  '있었는데요',\n",
       "  '.',\n",
       "  '아무래도',\n",
       "  '파이썬',\n",
       "  '웹',\n",
       "  '...',\n",
       "  '제',\n",
       "  '가',\n",
       "  '파이썬',\n",
       "  '웹페이지',\n",
       "  '기술',\n",
       "  '을',\n",
       "  '배워',\n",
       "  '두면',\n",
       "  '어느',\n",
       "  '정도',\n",
       "  '그런',\n",
       "  '...',\n",
       "  '파이썬',\n",
       "  '교육',\n",
       "  '은',\n",
       "  '가능하다고',\n",
       "  '들은',\n",
       "  '적은',\n",
       "  '있지만',\n",
       "  '파이썬',\n",
       "  '웹페이지',\n",
       "  '...']]"
      ]
     },
     "execution_count": 31,
     "metadata": {},
     "output_type": "execute_result"
    }
   ],
   "source": [
    "contents_tokens=[t.morphs(row)for row in contents]\n",
    "contents_tokens"
   ]
  },
  {
   "cell_type": "code",
   "execution_count": 32,
   "metadata": {},
   "outputs": [
    {
     "data": {
      "text/plain": [
       "[' ... 현재 학원 에서 파이썬 반복 문 을 갓 입문 했습니다 . 파이썬 말고 리눅스 를 하고싶은데 파이썬 은 보통 얼마나 하면 ... 컴퓨터 , 프로그래밍 , IT 분야 지식 IN 전문 답변 인 진로 진학 취업 상담 가 이에요 파이썬 이랑 리눅스 서버 도 ...',\n",
       " ' 궁금한게 있는데요 파이썬 프로그래밍 을 배우면 일 본 취업 에 유리할까 요 ? 일본 은 대부분 c 언어 나 자바 아닌가요 ? 파이썬 프로그래밍 이 쓸모없지 않겠죠 ? 사실 파이썬 은 .. 언어 ... 그 이유 는 파이썬 의 경우 보통 처음 부터 뭔가 협업 하여 ...',\n",
       " ' 독학 으로 파이썬 을 공부 해 보려고하는데요 인강 과 교재 ? 책 추천 좀 해주세요 .... 학원 에서 파이썬 하나 만 배우면 비용 이 대체로 얼마 정도 드나 요 ?... 혼자 서 파이썬 을 독학 하 시기 에는 어려운 점 이 있으실 것 이라는 생각 이 듭니 다 . 많은 ...',\n",
       " ' 파이썬 공부 할 필요 가 생겨서 파이썬 공부 를 할까 하는데 아무 것 도 모르는 비 전공자 라 파이썬 은 어디 에 쓰이고 ... 파이썬 공부 에 대해 질문 남겨주셨는데요 , 우선 , 파이썬 은 홈페이지 개발 에 많이 쓰입니다 윈도우 실행 프로그램 을 ...',\n",
       " ' ... 일단 파이썬 으로 독학 시작 해보려고하는데요 뭐 아는 게 없어서 선뜻 시작 하기가 애매하네요 파이썬 독학 으로 배우기 많이 어렵나요 ?? 요즘 은 시대 가 좋아서 파이썬 관련 서적 이나 인강 이 잘 돼있답니다 게다가 파이썬 은 비교 적 ...',\n",
       " ' 파이썬 언어 공부 먼저 ? 해야하나요 안녕하세요 . IT ... 먼저 파이썬 에 대해 서 궁금하신 이유 는 무엇 인가요 ? 파이썬 은 프로그래밍언어 라는 겁니다 . 가장 인기 있는 언어 죠 . 컴퓨터 공 학부 나 , IT 기업 에서도 파이썬 을 가장 많이 ...',\n",
       " ' ... 특성화고 다니는데 학교 수업 많으로는 파이썬 , c 언어 ... 부분 이고 파이썬 , c 언어 가 제대로 이해 못 한다면 C ++, 자바 까지 배울 수 없어 파이썬 , C 언어 가 가장 중요하다고 할 수 있습니다 . 대부분 의 파이썬 인강 , 인터넷 강의 는 옛날 ...',\n",
       " ' 파이썬 가르쳐주는 학원 이 어디 죠 ? 파이썬 배울 수 있는 학원 추천 해드릴께요 ! http://sbsdaejeon.co.kr SBS 아카데미 컴퓨터아트 학원 박세진 Previous Next pused 수강 료 조회 취업 과정 조회 지점 위치 조회 ...',\n",
       " ' 안녕하세요 이번 에 파이썬 에 관심 이 생긴 1 인 입니다 . 파이썬 학원 다녀 보려고 정보 찾는 중이 예요 처음 배우는거라 ... 알려주는 파이썬 학원 어디 없을까요 ? 이왕 알아보는거 교육과정 도 다양하고 실습 환경 까지 깨끗한 파이썬 학원 이 ...',\n",
       " ' ... 사업가 로 파이썬 페이지 를 구축 하는 사람 을 불러서 웹페이지 개발 을 의뢰 한 적 이 있었는데요 . 아무래도 파이썬 웹 ... 제 가 파이썬 웹페이지 기술 을 배워 두면 어느 정도 그런 ... 파이썬 교육 은 가능하다고 들은 적은 있지만 파이썬 웹페이지 ...']"
      ]
     },
     "execution_count": 32,
     "metadata": {},
     "output_type": "execute_result"
    }
   ],
   "source": [
    "#vectorize후 다시 합치기\n",
    "contents_for_vectorize=[]\n",
    "for content in contents_tokens:\n",
    "    sentence=''\n",
    "    for word in content:\n",
    "        sentence=sentence+' '+word\n",
    "    contents_for_vectorize.append(sentence)\n",
    "    \n",
    "contents_for_vectorize"
   ]
  },
  {
   "cell_type": "code",
   "execution_count": 33,
   "metadata": {},
   "outputs": [
    {
     "data": {
      "text/plain": [
       "<10x200 sparse matrix of type '<class 'numpy.int64'>'\n",
       "\twith 245 stored elements in Compressed Sparse Row format>"
      ]
     },
     "execution_count": 33,
     "metadata": {},
     "output_type": "execute_result"
    }
   ],
   "source": [
    "#결과\n",
    "X=vectorizer.fit_transform(contents_for_vectorize)\n",
    "X"
   ]
  },
  {
   "cell_type": "code",
   "execution_count": 34,
   "metadata": {},
   "outputs": [
    {
     "data": {
      "text/plain": [
       "(10, 200)"
      ]
     },
     "execution_count": 34,
     "metadata": {},
     "output_type": "execute_result"
    }
   ],
   "source": [
    "num_samples,num_features=X.shape\n",
    "num_samples,num_features"
   ]
  },
  {
   "cell_type": "code",
   "execution_count": 35,
   "metadata": {},
   "outputs": [
    {
     "data": {
      "text/plain": [
       "['co',\n",
       " 'http',\n",
       " 'in',\n",
       " 'it',\n",
       " 'kr',\n",
       " 'next',\n",
       " 'previous',\n",
       " 'pused',\n",
       " 'sbs',\n",
       " 'sbsdaejeon',\n",
       " '가능하다고',\n",
       " '가르쳐주는',\n",
       " '가장',\n",
       " '강의',\n",
       " '개발',\n",
       " '겁니다',\n",
       " '게다가',\n",
       " '경우',\n",
       " '공부',\n",
       " '과정',\n",
       " '관련',\n",
       " '관심',\n",
       " '교육',\n",
       " '교육과정',\n",
       " '교재',\n",
       " '구축',\n",
       " '궁금하신',\n",
       " '궁금한게',\n",
       " '그런',\n",
       " '기술',\n",
       " '기업',\n",
       " '까지',\n",
       " '깨끗한',\n",
       " '남겨주셨는데요',\n",
       " '다녀',\n",
       " '다니는데',\n",
       " '다양하고',\n",
       " '답변',\n",
       " '대부분',\n",
       " '대체로',\n",
       " '대해',\n",
       " '독학',\n",
       " '돼있답니다',\n",
       " '두면',\n",
       " '드나',\n",
       " '들은',\n",
       " '듭니',\n",
       " '라는',\n",
       " '리눅스',\n",
       " '많으로는',\n",
       " '많은',\n",
       " '많이',\n",
       " '말고',\n",
       " '먼저',\n",
       " '모르는',\n",
       " '무엇',\n",
       " '뭔가',\n",
       " '박세진',\n",
       " '반복',\n",
       " '배우기',\n",
       " '배우는거라',\n",
       " '배우면',\n",
       " '배울',\n",
       " '배워',\n",
       " '보려고',\n",
       " '보려고하는데요',\n",
       " '보통',\n",
       " '부분',\n",
       " '부터',\n",
       " '분야',\n",
       " '불러서',\n",
       " '비교',\n",
       " '비용',\n",
       " '사람',\n",
       " '사실',\n",
       " '사업가',\n",
       " '상담',\n",
       " '생각',\n",
       " '생겨서',\n",
       " '생긴',\n",
       " '서버',\n",
       " '서적',\n",
       " '선뜻',\n",
       " '수강',\n",
       " '수업',\n",
       " '시기',\n",
       " '시대',\n",
       " '시작',\n",
       " '실습',\n",
       " '실행',\n",
       " '쓰이고',\n",
       " '쓰입니다',\n",
       " '쓸모없지',\n",
       " '아는',\n",
       " '아닌가요',\n",
       " '아무',\n",
       " '아무래도',\n",
       " '아카데미',\n",
       " '안녕하세요',\n",
       " '않겠죠',\n",
       " '알려주는',\n",
       " '알아보는거',\n",
       " '애매하네요',\n",
       " '어느',\n",
       " '어디',\n",
       " '어려운',\n",
       " '어렵나요',\n",
       " '언어',\n",
       " '얼마',\n",
       " '얼마나',\n",
       " '없어',\n",
       " '없어서',\n",
       " '없을까요',\n",
       " '에는',\n",
       " '에서',\n",
       " '에서도',\n",
       " '예요',\n",
       " '옛날',\n",
       " '요즘',\n",
       " '우선',\n",
       " '웹페이지',\n",
       " '위치',\n",
       " '윈도우',\n",
       " '유리할까',\n",
       " '으로',\n",
       " '의뢰',\n",
       " '이고',\n",
       " '이나',\n",
       " '이라는',\n",
       " '이랑',\n",
       " '이번',\n",
       " '이에요',\n",
       " '이왕',\n",
       " '이유',\n",
       " '이해',\n",
       " '인가요',\n",
       " '인강',\n",
       " '인기',\n",
       " '인터넷',\n",
       " '일단',\n",
       " '일본',\n",
       " '입니다',\n",
       " '입문',\n",
       " '있는',\n",
       " '있는데요',\n",
       " '있습니다',\n",
       " '있었는데요',\n",
       " '있으실',\n",
       " '있지만',\n",
       " '자바',\n",
       " '적은',\n",
       " '전공자',\n",
       " '전문',\n",
       " '정도',\n",
       " '정보',\n",
       " '제대로',\n",
       " '조회',\n",
       " '좋아서',\n",
       " '중요하다고',\n",
       " '중이',\n",
       " '지식',\n",
       " '지점',\n",
       " '진로',\n",
       " '진학',\n",
       " '질문',\n",
       " '찾는',\n",
       " '처음',\n",
       " '추천',\n",
       " '취업',\n",
       " '컴퓨터',\n",
       " '컴퓨터아트',\n",
       " '특성화고',\n",
       " '파이썬',\n",
       " '페이지',\n",
       " '프로그래밍',\n",
       " '프로그래밍언어',\n",
       " '프로그램',\n",
       " '필요',\n",
       " '하고싶은데',\n",
       " '하기가',\n",
       " '하나',\n",
       " '하는',\n",
       " '하는데',\n",
       " '하면',\n",
       " '하여',\n",
       " '학교',\n",
       " '학부',\n",
       " '학원',\n",
       " '한다면',\n",
       " '할까',\n",
       " '해드릴께요',\n",
       " '해보려고하는데요',\n",
       " '해야하나요',\n",
       " '해주세요',\n",
       " '했습니다',\n",
       " '현재',\n",
       " '협업',\n",
       " '혼자',\n",
       " '홈페이지',\n",
       " '환경']"
      ]
     },
     "execution_count": 35,
     "metadata": {},
     "output_type": "execute_result"
    }
   ],
   "source": [
    "#vectorize 결과\n",
    "vectorizer.get_feature_names()"
   ]
  },
  {
   "cell_type": "code",
   "execution_count": 36,
   "metadata": {},
   "outputs": [
    {
     "data": {
      "text/plain": [
       "[' 파이썬 을 배우는데 좋은 방법 이 어떤 것 인지 추천 해주세요']"
      ]
     },
     "execution_count": 36,
     "metadata": {},
     "output_type": "execute_result"
    }
   ],
   "source": [
    "#유사도 측정할 테스트 문장\n",
    "new_post=['파이썬을 배우는데 좋은 방법이 어떤 것인지 추천해주세요']\n",
    "new_post_tokens=[t.morphs(row) for row in new_post]\n",
    "\n",
    "new_post_for_vectorize=[]\n",
    "for content in new_post_tokens:\n",
    "    sentence=''\n",
    "    for word in content:\n",
    "        sentence=sentence+ ' '+ word\n",
    "        \n",
    "    new_post_for_vectorize.append(sentence)\n",
    "    \n",
    "new_post_for_vectorize"
   ]
  },
  {
   "cell_type": "code",
   "execution_count": 37,
   "metadata": {},
   "outputs": [
    {
     "data": {
      "text/plain": [
       "array([[0, 0, 0, 0, 0, 0, 0, 0, 0, 0, 0, 0, 0, 0, 0, 0, 0, 0, 0, 0, 0, 0,\n",
       "        0, 0, 0, 0, 0, 0, 0, 0, 0, 0, 0, 0, 0, 0, 0, 0, 0, 0, 0, 0, 0, 0,\n",
       "        0, 0, 0, 0, 0, 0, 0, 0, 0, 0, 0, 0, 0, 0, 0, 0, 0, 0, 0, 0, 0, 0,\n",
       "        0, 0, 0, 0, 0, 0, 0, 0, 0, 0, 0, 0, 0, 0, 0, 0, 0, 0, 0, 0, 0, 0,\n",
       "        0, 0, 0, 0, 0, 0, 0, 0, 0, 0, 0, 0, 0, 0, 0, 0, 0, 0, 0, 0, 0, 0,\n",
       "        0, 0, 0, 0, 0, 0, 0, 0, 0, 0, 0, 0, 0, 0, 0, 0, 0, 0, 0, 0, 0, 0,\n",
       "        0, 0, 0, 0, 0, 0, 0, 0, 0, 0, 0, 0, 0, 0, 0, 0, 0, 0, 0, 0, 0, 0,\n",
       "        0, 0, 0, 0, 0, 0, 0, 0, 0, 0, 0, 0, 0, 1, 0, 0, 0, 0, 1, 0, 0, 0,\n",
       "        0, 0, 0, 0, 0, 0, 0, 0, 0, 0, 0, 0, 0, 0, 0, 0, 0, 1, 0, 0, 0, 0,\n",
       "        0, 0]], dtype=int64)"
      ]
     },
     "execution_count": 37,
     "metadata": {},
     "output_type": "execute_result"
    }
   ],
   "source": [
    "#vectorize\n",
    "new_post_vec= vectorizer.transform(new_post_for_vectorize)\n",
    "new_post_vec.toarray()"
   ]
  },
  {
   "cell_type": "code",
   "execution_count": 38,
   "metadata": {},
   "outputs": [],
   "source": [
    "#유클리드 거리\n",
    "import scipy as sp\n",
    "def dist_raw(v1,v2):\n",
    "    delta=v1-v2\n",
    "    return sp.linalg.norm(delta.toarray())"
   ]
  },
  {
   "cell_type": "code",
   "execution_count": 39,
   "metadata": {},
   "outputs": [
    {
     "data": {
      "text/plain": [
       "[6.4031242374328485,\n",
       " 6.244997998398398,\n",
       " 5.5677643628300215,\n",
       " 6.855654600401044,\n",
       " 6.557438524302,\n",
       " 6.708203932499369,\n",
       " 6.48074069840786,\n",
       " 6.4031242374328485,\n",
       " 6.6332495807108,\n",
       " 6.928203230275509]"
      ]
     },
     "execution_count": 39,
     "metadata": {},
     "output_type": "execute_result"
    }
   ],
   "source": [
    "dist=[dist_raw(each, new_post_vec)for each in X]\n",
    "dist"
   ]
  },
  {
   "cell_type": "code",
   "execution_count": 40,
   "metadata": {},
   "outputs": [
    {
     "name": "stdout",
     "output_type": "stream",
     "text": [
      "Best post is 2 , dist =  5.5677643628300215\n",
      "test post is -->  ['파이썬을 배우는데 좋은 방법이 어떤 것인지 추천해주세요']\n",
      "best dist post is -->  독학으로 파이썬을 공부해 보려고하는데요 인강과 교재? 책 추천 좀 해주세요.... 학원에서 파이썬 하나만 배우면 비용이 대체로 얼마정도 드나요?... 혼자서 파이썬을 독학하시기에는 어려운 점이 있으실 것이라는 생각이 듭니다. 많은... \n"
     ]
    }
   ],
   "source": [
    "#결과보기\n",
    "print('Best post is', dist.index(min(dist)), \", dist = \", min(dist))\n",
    "print('test post is --> ', new_post)\n",
    "print('best dist post is --> ', contents[dist.index(min(dist))])"
   ]
  },
  {
   "cell_type": "code",
   "execution_count": 41,
   "metadata": {},
   "outputs": [],
   "source": [
    "#거리를 구하는 또다른 방법 : normalize\n",
    "def dist_norm(v1,v2):\n",
    "    v1_normalized=v1/sp.linalg.norm(v1.toarray())\n",
    "    v2_normalized=v2/sp.linalg.norm(v2.toarray())\n",
    "    \n",
    "    delta = v1_normalized- v2_normalized\n",
    "    \n",
    "    return sp.linalg.norm(delta.toarray())"
   ]
  },
  {
   "cell_type": "code",
   "execution_count": 42,
   "metadata": {},
   "outputs": [
    {
     "name": "stdout",
     "output_type": "stream",
     "text": [
      "Best post is  2 , dist =  1.0312197575775526\n",
      "test post is -->  ['파이썬을 배우는데 좋은 방법이 어떤 것인지 추천해주세요']\n",
      "best dist post is -->  독학으로 파이썬을 공부해 보려고하는데요 인강과 교재? 책 추천 좀 해주세요.... 학원에서 파이썬 하나만 배우면 비용이 대체로 얼마정도 드나요?... 혼자서 파이썬을 독학하시기에는 어려운 점이 있으실 것이라는 생각이 듭니다. 많은... \n"
     ]
    }
   ],
   "source": [
    "dist=[dist_norm(each, new_post_vec) for each in X]\n",
    "\n",
    "print('Best post is ', dist.index(min(dist)), \", dist = \", min(dist))\n",
    "print('test post is --> ', new_post )\n",
    "print('best dist post is --> ', contents[dist.index(min(dist))])"
   ]
  },
  {
   "cell_type": "code",
   "execution_count": 43,
   "metadata": {},
   "outputs": [],
   "source": [
    "#Tfidf\n",
    "def tfidf(t,d,D):\n",
    "    tf=float(d.count(t))/sum(d.count(w) for w in set(d))\n",
    "    idf=sp.log(float(len(D)/(len([doc for doc in D if t in doc]))))\n",
    "    return tf * idf"
   ]
  },
  {
   "cell_type": "code",
   "execution_count": 44,
   "metadata": {},
   "outputs": [],
   "source": [
    "from sklearn.feature_extraction.text import TfidfVectorizer\n",
    "vectorizer=TfidfVectorizer(min_df=1, decode_error='ignore')"
   ]
  },
  {
   "cell_type": "code",
   "execution_count": 45,
   "metadata": {},
   "outputs": [
    {
     "data": {
      "text/plain": [
       "(10, 200)"
      ]
     },
     "execution_count": 45,
     "metadata": {},
     "output_type": "execute_result"
    }
   ],
   "source": [
    "X=vectorizer.fit_transform(contents_for_vectorize)\n",
    "num_samples, num_features = X.shape\n",
    "num_samples, num_features"
   ]
  },
  {
   "cell_type": "code",
   "execution_count": 46,
   "metadata": {},
   "outputs": [
    {
     "data": {
      "text/plain": [
       "array([[0.        , 0.        , 0.        , 0.        , 0.        ,\n",
       "        0.        , 0.        , 0.        , 0.        , 0.        ,\n",
       "        0.        , 0.        , 0.        , 0.        , 0.        ,\n",
       "        0.        , 0.        , 0.        , 0.        , 0.        ,\n",
       "        0.        , 0.        , 0.        , 0.        , 0.        ,\n",
       "        0.        , 0.        , 0.        , 0.        , 0.        ,\n",
       "        0.        , 0.        , 0.        , 0.        , 0.        ,\n",
       "        0.        , 0.        , 0.        , 0.        , 0.        ,\n",
       "        0.        , 0.        , 0.        , 0.        , 0.        ,\n",
       "        0.        , 0.        , 0.        , 0.        , 0.        ,\n",
       "        0.        , 0.        , 0.        , 0.        , 0.        ,\n",
       "        0.        , 0.        , 0.        , 0.        , 0.        ,\n",
       "        0.        , 0.        , 0.        , 0.        , 0.        ,\n",
       "        0.        , 0.        , 0.        , 0.        , 0.        ,\n",
       "        0.        , 0.        , 0.        , 0.        , 0.        ,\n",
       "        0.        , 0.        , 0.        , 0.        , 0.        ,\n",
       "        0.        , 0.        , 0.        , 0.        , 0.        ,\n",
       "        0.        , 0.        , 0.        , 0.        , 0.        ,\n",
       "        0.        , 0.        , 0.        , 0.        , 0.        ,\n",
       "        0.        , 0.        , 0.        , 0.        , 0.        ,\n",
       "        0.        , 0.        , 0.        , 0.        , 0.        ,\n",
       "        0.        , 0.        , 0.        , 0.        , 0.        ,\n",
       "        0.        , 0.        , 0.        , 0.        , 0.        ,\n",
       "        0.        , 0.        , 0.        , 0.        , 0.        ,\n",
       "        0.        , 0.        , 0.        , 0.        , 0.        ,\n",
       "        0.        , 0.        , 0.        , 0.        , 0.        ,\n",
       "        0.        , 0.        , 0.        , 0.        , 0.        ,\n",
       "        0.        , 0.        , 0.        , 0.        , 0.        ,\n",
       "        0.        , 0.        , 0.        , 0.        , 0.        ,\n",
       "        0.        , 0.        , 0.        , 0.        , 0.        ,\n",
       "        0.        , 0.        , 0.        , 0.        , 0.        ,\n",
       "        0.        , 0.        , 0.        , 0.        , 0.        ,\n",
       "        0.        , 0.        , 0.        , 0.        , 0.        ,\n",
       "        0.        , 0.        , 0.62342645, 0.        , 0.        ,\n",
       "        0.        , 0.        , 0.2711395 , 0.        , 0.        ,\n",
       "        0.        , 0.        , 0.        , 0.        , 0.        ,\n",
       "        0.        , 0.        , 0.        , 0.        , 0.        ,\n",
       "        0.        , 0.        , 0.        , 0.        , 0.        ,\n",
       "        0.        , 0.        , 0.        , 0.73336405, 0.        ,\n",
       "        0.        , 0.        , 0.        , 0.        , 0.        ]])"
      ]
     },
     "execution_count": 46,
     "metadata": {},
     "output_type": "execute_result"
    }
   ],
   "source": [
    "new_post_vec=vectorizer.transform(new_post_for_vectorize)\n",
    "new_post_vec.toarray()"
   ]
  },
  {
   "cell_type": "code",
   "execution_count": 47,
   "metadata": {},
   "outputs": [
    {
     "name": "stdout",
     "output_type": "stream",
     "text": [
      "Best post is  2 , dist =  1.1788852025234768\n",
      "test post is -->  ['파이썬을 배우는데 좋은 방법이 어떤 것인지 추천해주세요']\n",
      "best dist post is -->  독학으로 파이썬을 공부해 보려고하는데요 인강과 교재? 책 추천 좀 해주세요.... 학원에서 파이썬 하나만 배우면 비용이 대체로 얼마정도 드나요?... 혼자서 파이썬을 독학하시기에는 어려운 점이 있으실 것이라는 생각이 듭니다. 많은... \n"
     ]
    }
   ],
   "source": [
    "#결과\n",
    "dist=[dist_norm(each, new_post_vec) for each in X]\n",
    "\n",
    "print('Best post is ', dist.index(min(dist)), \", dist = \", min(dist))\n",
    "print('test post is --> ', new_post )\n",
    "print('best dist post is --> ', contents[dist.index(min(dist))])"
   ]
  }
 ],
 "metadata": {
  "kernelspec": {
   "display_name": "Python 3",
   "language": "python",
   "name": "python3"
  },
  "language_info": {
   "codemirror_mode": {
    "name": "ipython",
    "version": 3
   },
   "file_extension": ".py",
   "mimetype": "text/x-python",
   "name": "python",
   "nbconvert_exporter": "python",
   "pygments_lexer": "ipython3",
   "version": "3.7.4"
  }
 },
 "nbformat": 4,
 "nbformat_minor": 2
}
